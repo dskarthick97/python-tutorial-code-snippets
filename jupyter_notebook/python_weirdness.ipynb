{
 "cells": [
  {
   "cell_type": "markdown",
   "id": "76781da5",
   "metadata": {},
   "source": [
    "# Python Weirdnesses"
   ]
  },
  {
   "cell_type": "markdown",
   "id": "2e8e3439",
   "metadata": {},
   "source": [
    "## a. comma equals (,=) operator"
   ]
  },
  {
   "cell_type": "code",
   "execution_count": 13,
   "id": "2648e659",
   "metadata": {},
   "outputs": [
    {
     "name": "stdout",
     "output_type": "stream",
     "text": [
      "2\n"
     ]
    }
   ],
   "source": [
    "x = 1\n",
    "y = [2]\n",
    "\n",
    "x ,= y  # Here x is a tuple. The actual syntax would be x, = y.\n",
    "print(x)"
   ]
  },
  {
   "cell_type": "markdown",
   "id": "a35c1f20",
   "metadata": {},
   "source": [
    "## b. looping performances"
   ]
  },
  {
   "cell_type": "code",
   "execution_count": 16,
   "id": "c43e2b11",
   "metadata": {},
   "outputs": [],
   "source": [
    "from timeit import default_timer as timer"
   ]
  },
  {
   "cell_type": "code",
   "execution_count": 25,
   "id": "a2e36e85",
   "metadata": {},
   "outputs": [
    {
     "data": {
      "text/plain": [
       "6.893871500000387"
      ]
     },
     "execution_count": 25,
     "metadata": {},
     "output_type": "execute_result"
    }
   ],
   "source": [
    "def while_loop(n):\n",
    "    i = 0\n",
    "    sum_ = 0\n",
    "    while i < n:\n",
    "        sum_ += i\n",
    "        i += 1\n",
    "        \n",
    "    return sum_\n",
    "\n",
    "\n",
    "start = timer()\n",
    "while_loop(100_000_000)\n",
    "end = timer()\n",
    "end - start"
   ]
  },
  {
   "cell_type": "code",
   "execution_count": 21,
   "id": "897ea2b8",
   "metadata": {},
   "outputs": [
    {
     "data": {
      "text/plain": [
       "4.26935448400036"
      ]
     },
     "execution_count": 21,
     "metadata": {},
     "output_type": "execute_result"
    }
   ],
   "source": [
    "def for_loop(n):\n",
    "    sum_ = 0\n",
    "    for i in range(n):\n",
    "        sum_ += i\n",
    "        \n",
    "    return sum_\n",
    "\n",
    "\n",
    "start = timer()\n",
    "for_loop(100_000_000)\n",
    "end = timer()\n",
    "end - start"
   ]
  },
  {
   "cell_type": "code",
   "execution_count": 22,
   "id": "f4f1dc77",
   "metadata": {},
   "outputs": [
    {
     "data": {
      "text/plain": [
       "1.121445754000888"
      ]
     },
     "execution_count": 22,
     "metadata": {},
     "output_type": "execute_result"
    }
   ],
   "source": [
    "def for_loop_(n):\n",
    "    return sum(range(n))\n",
    "\n",
    "start = timer()\n",
    "for_loop_(100_000_000)\n",
    "end = timer()\n",
    "end - start"
   ]
  },
  {
   "cell_type": "code",
   "execution_count": 24,
   "id": "ac4898cb",
   "metadata": {},
   "outputs": [
    {
     "data": {
      "text/plain": [
       "0.20049342199854436"
      ]
     },
     "execution_count": 24,
     "metadata": {},
     "output_type": "execute_result"
    }
   ],
   "source": [
    "import numpy\n",
    "\n",
    "def numpy_for_loop(n):\n",
    "    return numpy.sum(numpy.arange(n))\n",
    "\n",
    "\n",
    "start = timer()\n",
    "numpy_for_loop(100_000_000)\n",
    "end = timer()\n",
    "end - start"
   ]
  },
  {
   "cell_type": "code",
   "execution_count": 26,
   "id": "241a503a",
   "metadata": {},
   "outputs": [
    {
     "data": {
      "text/plain": [
       "6.76159979775548e-05"
      ]
     },
     "execution_count": 26,
     "metadata": {},
     "output_type": "execute_result"
    }
   ],
   "source": [
    "def sum_math(n):\n",
    "    return (n * (n - 1)) // 2\n",
    "\n",
    "\n",
    "start = timer()\n",
    "sum_math(100_000_000)\n",
    "end = timer()\n",
    "end - start"
   ]
  },
  {
   "cell_type": "markdown",
   "id": "a2b46de8",
   "metadata": {},
   "source": [
    "### Conclusion:\n",
    "The fastest way to loop in python is not to loop in python.\n",
    "\n",
    "pure mathematical expression > c implementation > builtin functions > for loop > while loop"
   ]
  }
 ],
 "metadata": {
  "kernelspec": {
   "display_name": "self_learning",
   "language": "python",
   "name": "self_learning"
  },
  "language_info": {
   "codemirror_mode": {
    "name": "ipython",
    "version": 3
   },
   "file_extension": ".py",
   "mimetype": "text/x-python",
   "name": "python",
   "nbconvert_exporter": "python",
   "pygments_lexer": "ipython3",
   "version": "3.8.10"
  }
 },
 "nbformat": 4,
 "nbformat_minor": 5
}
