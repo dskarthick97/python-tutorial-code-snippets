{
 "cells": [
  {
   "cell_type": "code",
   "execution_count": 3,
   "id": "7c3d4a8a",
   "metadata": {},
   "outputs": [
    {
     "name": "stdout",
     "output_type": "stream",
     "text": [
      "{'ResponseMetadata': {'RequestId': '81b13dd6-cbb9-4783-b7a8-afe2ca3e981b', 'HTTPStatusCode': 200, 'HTTPHeaders': {'date': 'Wed, 10 Nov 2021 09:45:25 GMT', 'content-type': 'application/json', 'content-length': '5535', 'connection': 'keep-alive', 'x-amzn-requestid': '81b13dd6-cbb9-4783-b7a8-afe2ca3e981b', 'x-amz-apigw-id': 'IlQsbLNVoAMEcUQ='}, 'RetryAttempts': 0}, 'position': 'aWQ9UzhmZmJubmR0ejg%3D', 'items': [{'id': '04kjfhuwp9', 'name': 'webface-prod-chatbot', 'createdDate': datetime.datetime(2019, 11, 26, 23, 43, 27, tzinfo=tzlocal()), 'apiKeySource': 'HEADER', 'endpointConfiguration': {'types': ['REGIONAL']}, 'disableExecuteApiEndpoint': False}, {'id': '0fjrh7sujk', 'name': 'webface-qa-menu', 'createdDate': datetime.datetime(2020, 5, 20, 11, 48, 45, tzinfo=tzlocal()), 'apiKeySource': 'HEADER', 'endpointConfiguration': {'types': ['REGIONAL']}, 'disableExecuteApiEndpoint': False}, {'id': '0nwobx6j19', 'name': 'webface-qa-job_profile', 'createdDate': datetime.datetime(2020, 4, 1, 18, 3, 42, tzinfo=tzlocal()), 'apiKeySource': 'HEADER', 'endpointConfiguration': {'types': ['REGIONAL']}, 'tags': {'AppName': 'webface', 'EnvName': 'qa'}, 'disableExecuteApiEndpoint': False}, {'id': '0v224xh8i7', 'name': 'webface-qa-workflow', 'createdDate': datetime.datetime(2020, 8, 4, 15, 21, 41, tzinfo=tzlocal()), 'apiKeySource': 'HEADER', 'endpointConfiguration': {'types': ['REGIONAL']}, 'disableExecuteApiEndpoint': False}, {'id': '17ayb2138e', 'name': 'webface-prod-meet', 'createdDate': datetime.datetime(2020, 5, 4, 12, 35, 32, tzinfo=tzlocal()), 'apiKeySource': 'HEADER', 'endpointConfiguration': {'types': ['REGIONAL']}, 'disableExecuteApiEndpoint': False}, {'id': '1fguorgkwk', 'name': 'webface-prod-audio_callback', 'createdDate': datetime.datetime(2020, 1, 20, 18, 36, 32, tzinfo=tzlocal()), 'apiKeySource': 'HEADER', 'endpointConfiguration': {'types': ['REGIONAL']}, 'tags': {'AppName': 'webface', 'EnvName': 'prod'}, 'disableExecuteApiEndpoint': False}, {'id': '2arx7rcv4h', 'name': 'webface-dev-unbounce-integration', 'createdDate': datetime.datetime(2021, 8, 30, 15, 9, 48, tzinfo=tzlocal()), 'apiKeySource': 'HEADER', 'endpointConfiguration': {'types': ['REGIONAL']}, 'tags': {'AppName': 'webface', 'EnvName': 'dev', 'aws:cloudformation:logical-id': 'ServerlessApi', 'aws:cloudformation:stack-id': 'arn:aws:cloudformation:us-east-1:363101672748:stack/webface-dev-unbounce/afa0d720-0975-11ec-94e1-0e205506a645', 'aws:cloudformation:stack-name': 'webface-dev-unbounce'}, 'disableExecuteApiEndpoint': False}, {'id': '2nq0ipjodb', 'name': 'webface-prod-forms', 'createdDate': datetime.datetime(2020, 12, 15, 12, 8, 15, tzinfo=tzlocal()), 'apiKeySource': 'HEADER', 'endpointConfiguration': {'types': ['REGIONAL']}, 'disableExecuteApiEndpoint': False}, {'id': '37l64rnhy9', 'name': 'webface-dev-job_applicant', 'createdDate': datetime.datetime(2020, 2, 3, 16, 3, 55, tzinfo=tzlocal()), 'apiKeySource': 'HEADER', 'endpointConfiguration': {'types': ['REGIONAL']}, 'tags': {'AppName': 'webface', 'EnvName': 'dev'}, 'disableExecuteApiEndpoint': False}, {'id': '3agy2aan5j', 'name': 'serverlessapi-dev-record_temperature', 'createdDate': datetime.datetime(2019, 7, 8, 11, 15, 18, tzinfo=tzlocal()), 'apiKeySource': 'HEADER', 'endpointConfiguration': {'types': ['REGIONAL']}, 'disableExecuteApiEndpoint': False}, {'id': '3gpitpo73f', 'name': 'webface-preprod-users', 'createdDate': datetime.datetime(2019, 7, 1, 17, 17, 41, tzinfo=tzlocal()), 'apiKeySource': 'HEADER', 'endpointConfiguration': {'types': ['REGIONAL']}, 'tags': {'AppName': 'webface', 'EnvName': 'preprod'}, 'disableExecuteApiEndpoint': False}, {'id': '44hwduhf3i', 'name': 'webface-prod-dialogflow_sync', 'createdDate': datetime.datetime(2020, 1, 20, 18, 38, 13, tzinfo=tzlocal()), 'apiKeySource': 'HEADER', 'endpointConfiguration': {'types': ['REGIONAL']}, 'tags': {'AppName': 'webface', 'EnvName': 'prod'}, 'disableExecuteApiEndpoint': False}, {'id': '4ho5ofbd82', 'name': 'webface-qa-intent', 'createdDate': datetime.datetime(2019, 12, 24, 17, 18, 34, tzinfo=tzlocal()), 'apiKeySource': 'HEADER', 'endpointConfiguration': {'types': ['REGIONAL']}, 'disableExecuteApiEndpoint': False}, {'id': '4q21kcr16b', 'name': 'webface-preprod-event_type', 'createdDate': datetime.datetime(2019, 7, 1, 17, 13, 53, tzinfo=tzlocal()), 'apiKeySource': 'HEADER', 'endpointConfiguration': {'types': ['REGIONAL']}, 'disableExecuteApiEndpoint': False}, {'id': '4znoifkzjf', 'name': 'webface-qa-meet', 'createdDate': datetime.datetime(2020, 6, 9, 9, 3, 57, tzinfo=tzlocal()), 'apiKeySource': 'HEADER', 'endpointConfiguration': {'types': ['REGIONAL']}, 'disableExecuteApiEndpoint': False}, {'id': '5cyg6ptv97', 'name': 'webface-dev-forms', 'createdDate': datetime.datetime(2020, 4, 23, 20, 35, 8, tzinfo=tzlocal()), 'apiKeySource': 'HEADER', 'endpointConfiguration': {'types': ['REGIONAL']}, 'tags': {'AppName': 'webface', 'EnvName': 'dev'}, 'disableExecuteApiEndpoint': False}, {'id': '5p7yiexqbh', 'name': 'webface-dev-careers', 'createdDate': datetime.datetime(2021, 2, 19, 9, 35, 8, tzinfo=tzlocal()), 'apiKeySource': 'HEADER', 'endpointConfiguration': {'types': ['REGIONAL']}, 'disableExecuteApiEndpoint': False}, {'id': '5y0ayhj1jj', 'name': 'webface-qa-status', 'createdDate': datetime.datetime(2020, 5, 20, 11, 54, 12, tzinfo=tzlocal()), 'apiKeySource': 'HEADER', 'endpointConfiguration': {'types': ['REGIONAL']}, 'disableExecuteApiEndpoint': False}, {'id': '68iv9mdji7', 'name': 'webface-dev-meet', 'createdDate': datetime.datetime(2020, 4, 20, 11, 38, 12, tzinfo=tzlocal()), 'apiKeySource': 'HEADER', 'endpointConfiguration': {'types': ['REGIONAL']}, 'disableExecuteApiEndpoint': False}, {'id': '6zivwlcvn1', 'name': 'webface-preacceptance-data_sync', 'createdDate': datetime.datetime(2020, 4, 29, 21, 14, 59, tzinfo=tzlocal()), 'apiKeySource': 'HEADER', 'endpointConfiguration': {'types': ['REGIONAL']}, 'disableExecuteApiEndpoint': False}, {'id': '75rfh99y6d', 'name': 'webface-prod-event_type', 'createdDate': datetime.datetime(2019, 11, 26, 16, 53, 6, tzinfo=tzlocal()), 'apiKeySource': 'HEADER', 'endpointConfiguration': {'types': ['REGIONAL']}, 'disableExecuteApiEndpoint': False}, {'id': '7lr59guozl', 'name': 'webface-prod-intent', 'createdDate': datetime.datetime(2020, 1, 20, 14, 56, 44, tzinfo=tzlocal()), 'apiKeySource': 'HEADER', 'endpointConfiguration': {'types': ['REGIONAL']}, 'disableExecuteApiEndpoint': False}, {'id': '7ri6e3u8e7', 'name': 'webface-prod-content_type', 'createdDate': datetime.datetime(2019, 11, 26, 16, 52, 22, tzinfo=tzlocal()), 'apiKeySource': 'HEADER', 'endpointConfiguration': {'types': ['REGIONAL']}, 'disableExecuteApiEndpoint': False}, {'id': '88xgtgfmrj', 'name': 'webface-preprod-events', 'createdDate': datetime.datetime(2019, 7, 1, 17, 14, 28, tzinfo=tzlocal()), 'apiKeySource': 'HEADER', 'endpointConfiguration': {'types': ['REGIONAL']}, 'tags': {'AppName': 'webface', 'EnvName': 'preprod'}, 'disableExecuteApiEndpoint': False}, {'id': '8ffbnndtz8', 'name': 'webfacedevSpeechToText', 'createdDate': datetime.datetime(2019, 3, 22, 12, 19, 25, tzinfo=tzlocal()), 'apiKeySource': 'HEADER', 'endpointConfiguration': {'types': ['REGIONAL']}, 'disableExecuteApiEndpoint': False}]}\n"
     ]
    }
   ],
   "source": [
    "import boto3\n",
    "\n",
    "apigateway_client = boto3.client(\"apigateway\")\n",
    "response = apigateway_client.get_rest_apis()\n",
    "print(response)"
   ]
  }
 ],
 "metadata": {
  "kernelspec": {
   "display_name": "self_learning",
   "language": "python",
   "name": "self_learning"
  },
  "language_info": {
   "codemirror_mode": {
    "name": "ipython",
    "version": 3
   },
   "file_extension": ".py",
   "mimetype": "text/x-python",
   "name": "python",
   "nbconvert_exporter": "python",
   "pygments_lexer": "ipython3",
   "version": "3.8.10"
  }
 },
 "nbformat": 4,
 "nbformat_minor": 5
}
