{
 "cells": [
  {
   "cell_type": "code",
   "execution_count": 1,
   "id": "1dca7137",
   "metadata": {},
   "outputs": [],
   "source": [
    "from selenium import webdriver\n",
    "from selenium.webdriver.common.by import By"
   ]
  },
  {
   "cell_type": "code",
   "execution_count": 28,
   "id": "28803e00",
   "metadata": {},
   "outputs": [
    {
     "name": "stderr",
     "output_type": "stream",
     "text": [
      "/tmp/ipykernel_28085/3915268083.py:6: DeprecationWarning: executable_path has been deprecated, please pass in a Service object\n",
      "  chrome_driver = webdriver.Chrome(executable_path=chrome_driver_path)\n"
     ]
    },
    {
     "name": "stdout",
     "output_type": "stream",
     "text": [
      "{0: {'time': '2021-11-24', 'name': 'Xtreme Python'}, 1: {'time': '2021-11-24', 'name': 'An Introduction to Fairness in Machine Learning using Fairlearn - PyLadies Amsterdam'}, 2: {'time': '2021-12-01', 'name': 'FlaskCon 2021 Online'}, 3: {'time': '2021-12-01', 'name': 'PyCon Tanzania'}, 4: {'time': '2021-12-01', 'name': 'FlaskCon 2021 Online'}}\n"
     ]
    }
   ],
   "source": [
    "# instanstiate the chrome web driver\n",
    "chrome_driver_path = (\n",
    "    \"/home/karthicksabari/karthick.dhilip/tools/chromedriver_linux64/chromedriver\"\n",
    ")\n",
    "\n",
    "chrome_driver = webdriver.Chrome(executable_path=chrome_driver_path)\n",
    "chrome_driver.get(\"https://www.python.org/\")\n",
    "event_times = chrome_driver.find_elements(By.CSS_SELECTOR, \".event-widget time\")\n",
    "event_names = chrome_driver.find_elements(By.CSS_SELECTOR, \".event-widget li a\")\n",
    "events = {key: {\"time\": value[0].text, \"name\": value[1].text} for key, value in enumerate(zip(event_times, event_names))}\n",
    "print(events)\n",
    "\n",
    "chrome_driver.quit()"
   ]
  }
 ],
 "metadata": {
  "kernelspec": {
   "display_name": "self_learning",
   "language": "python",
   "name": "self_learning"
  },
  "language_info": {
   "codemirror_mode": {
    "name": "ipython",
    "version": 3
   },
   "file_extension": ".py",
   "mimetype": "text/x-python",
   "name": "python",
   "nbconvert_exporter": "python",
   "pygments_lexer": "ipython3",
   "version": "3.8.10"
  }
 },
 "nbformat": 4,
 "nbformat_minor": 5
}
