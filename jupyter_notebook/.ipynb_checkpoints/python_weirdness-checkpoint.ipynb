{
 "cells": [
  {
   "cell_type": "markdown",
   "id": "0f7eb1bf",
   "metadata": {},
   "source": [
    "# Python Weirdnesses"
   ]
  },
  {
   "cell_type": "markdown",
   "id": "077f2d6e",
   "metadata": {},
   "source": [
    "## a. comma equals (,=) operator"
   ]
  },
  {
   "cell_type": "code",
   "execution_count": 13,
   "id": "25f7484a",
   "metadata": {},
   "outputs": [
    {
     "name": "stdout",
     "output_type": "stream",
     "text": [
      "2\n"
     ]
    }
   ],
   "source": [
    "x = 1\n",
    "y = [2]\n",
    "\n",
    "x ,= y  # Here x is a tuple. The actual syntax would be x, = y.\n",
    "print(x)"
   ]
  },
  {
   "cell_type": "code",
   "execution_count": 16,
   "id": "1a10cc73",
   "metadata": {},
   "outputs": [],
   "source": [
    "from timeit import default_timer as timer"
   ]
  },
  {
   "cell_type": "code",
   "execution_count": 21,
   "id": "b9ca4e8b",
   "metadata": {},
   "outputs": [
    {
     "data": {
      "text/plain": [
       "4.26935448400036"
      ]
     },
     "execution_count": 21,
     "metadata": {},
     "output_type": "execute_result"
    }
   ],
   "source": [
    "def for_loop(n):\n",
    "    sum_ = 0\n",
    "    for i in range(n):\n",
    "        sum_ += i\n",
    "        \n",
    "    return sum_\n",
    "\n",
    "\n",
    "start = timer()\n",
    "for_loop(100_000_000)\n",
    "end = timer()\n",
    "end - start"
   ]
  },
  {
   "cell_type": "code",
   "execution_count": 22,
   "id": "c14cd25a",
   "metadata": {},
   "outputs": [
    {
     "data": {
      "text/plain": [
       "1.121445754000888"
      ]
     },
     "execution_count": 22,
     "metadata": {},
     "output_type": "execute_result"
    }
   ],
   "source": [
    "def for_loop_(n):\n",
    "    return sum(range(n))\n",
    "\n",
    "start = timer()\n",
    "for_loop_(100_000_000)\n",
    "end = timer()\n",
    "end - start"
   ]
  }
 ],
 "metadata": {
  "kernelspec": {
   "display_name": "self_learning",
   "language": "python",
   "name": "self_learning"
  },
  "language_info": {
   "codemirror_mode": {
    "name": "ipython",
    "version": 3
   },
   "file_extension": ".py",
   "mimetype": "text/x-python",
   "name": "python",
   "nbconvert_exporter": "python",
   "pygments_lexer": "ipython3",
   "version": "3.8.10"
  }
 },
 "nbformat": 4,
 "nbformat_minor": 5
}
