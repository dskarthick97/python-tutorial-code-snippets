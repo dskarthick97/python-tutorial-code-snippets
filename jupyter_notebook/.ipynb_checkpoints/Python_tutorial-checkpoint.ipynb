{
 "cells": [
  {
   "cell_type": "code",
   "execution_count": null,
   "id": "f1a2eb0e",
   "metadata": {},
   "outputs": [],
   "source": [
    "# string concatenation\n",
    "# can't able to concatenate two different data types using '+' operator,\n",
    "# but we can able to concatenate them using format method or f'strings.\n",
    "\n",
    "age = 24\n",
    "text = f\"My name is Bruce Wayne, I am {age}\"\n",
    "print(text)"
   ]
  },
  {
   "cell_type": "code",
   "execution_count": null,
   "id": "02940c36",
   "metadata": {},
   "outputs": [],
   "source": [
    "# iterable vs iterator\n",
    "\n",
    "lst = [\"karthick\", \"sabari\", \"dhilip\", \"sudhakar\"]\n",
    "iterator = iter(lst)\n",
    "iterator.__next__()\n",
    "iterator.__next__()"
   ]
  },
  {
   "cell_type": "markdown",
   "id": "80cbafbd",
   "metadata": {},
   "source": [
    "# List comprehension"
   ]
  },
  {
   "cell_type": "code",
   "execution_count": 6,
   "id": "ead8a16a",
   "metadata": {},
   "outputs": [
    {
     "name": "stdout",
     "output_type": "stream",
     "text": [
      "[0, 0, 0, 4, 5, 6, 7, 8]\n"
     ]
    }
   ],
   "source": [
    "# traditional way for creating lists\n",
    "\"\"\"\n",
    "sim_lst = []\n",
    "for i in range(6):\n",
    "    sim_lst.append(i*i)\n",
    "\"\"\" \n",
    "\n",
    "# syntax: [expression for element in iterable (if condition)]\n",
    "\n",
    "sim_list = [i*i for i in range(6)]\n",
    "# print(sim_list)\n",
    "\n",
    "evens = [i for i in range(20) if i%2 == 0]\n",
    "# print(evens)\n",
    "\n",
    "# another syntax: [expression (if else conditional) for element in iterable]\n",
    "a = [1, 2, 3, 4, 5, 6, 7, 8]\n",
    "b = [0 if element < 4 else element for element in a]\n",
    "# print(b)"
   ]
  },
  {
   "cell_type": "code",
   "execution_count": 7,
   "id": "9445eb57",
   "metadata": {},
   "outputs": [
    {
     "name": "stdout",
     "output_type": "stream",
     "text": [
      "{'o', 'a', 'i', 'e'}\n"
     ]
    }
   ],
   "source": [
    "# string comprehension\n",
    "\n",
    "message = \"welcome to matrix\"\n",
    "unique_char = {char for char in message if char in \"aeiou\"}\n",
    "print(unique_char)"
   ]
  },
  {
   "cell_type": "code",
   "execution_count": 8,
   "id": "9f70fcff",
   "metadata": {},
   "outputs": [
    {
     "name": "stdout",
     "output_type": "stream",
     "text": [
      "{0: 0, 1: 1, 2: 4, 3: 9, 4: 16}\n"
     ]
    }
   ],
   "source": [
    "# dict comprehension\n",
    "\n",
    "squared = {i: i*i for i in range(5)}\n",
    "print(squared)"
   ]
  },
  {
   "cell_type": "markdown",
   "id": "06e0fc26",
   "metadata": {},
   "source": [
    "## Generator"
   ]
  },
  {
   "cell_type": "code",
   "execution_count": 12,
   "id": "09184edc",
   "metadata": {},
   "outputs": [
    {
     "name": "stdout",
     "output_type": "stream",
     "text": [
      "9016\n",
      "112\n",
      "0.0670133879975765\n",
      "0.1042024179987493\n"
     ]
    }
   ],
   "source": [
    "# generator consumes less memory that list comprehension\n",
    "\n",
    "lst = [element * element for element in range(1000)]\n",
    "gen = (element * element for element in range(1000))\n",
    "\n",
    "# let's calculate the memory of the list comprehension and generator\n",
    "import sys\n",
    "\n",
    "print(sys.getsizeof(lst))\n",
    "print(sys.getsizeof(gen))\n",
    "\n",
    "# list comprehension is faster than traditional for loop\n",
    "from timeit import default_timer as timer\n",
    "\n",
    "start = timer()\n",
    "one_million = [element * element for element in range(1_000_000)]\n",
    "end = timer()\n",
    "print(end - start)\n",
    "\n",
    "start = timer()\n",
    "one_million_ = []\n",
    "for element in range(1_000_000):\n",
    "    one_million.append(element * element)\n",
    "end = timer()\n",
    "print(end - start)"
   ]
  },
  {
   "cell_type": "markdown",
   "id": "3fb2f389",
   "metadata": {},
   "source": [
    "# Type Hinting\n",
    "\n",
    "Gives the hint of what is the excepted data type of the parameter."
   ]
  },
  {
   "cell_type": "code",
   "execution_count": null,
   "id": "1148eaf0",
   "metadata": {},
   "outputs": [],
   "source": [
    "def increment(num: int, increment:int = 1) -> int:\n",
    "    return num + increment"
   ]
  },
  {
   "cell_type": "code",
   "execution_count": null,
   "id": "aecc7167",
   "metadata": {},
   "outputs": [],
   "source": [
    "# help(increment)\n",
    "increment(1)"
   ]
  },
  {
   "cell_type": "code",
   "execution_count": null,
   "id": "9243ba56",
   "metadata": {},
   "outputs": [],
   "source": [
    "from typing import List, Union, Any, TypeVar"
   ]
  },
  {
   "cell_type": "code",
   "execution_count": null,
   "id": "58ed88f0",
   "metadata": {},
   "outputs": [],
   "source": [
    "# Generic aliases.\n",
    "\n",
    "def list_sum(list_: List[int]):\n",
    "    return sum(list_)"
   ]
  },
  {
   "cell_type": "code",
   "execution_count": null,
   "id": "de648204",
   "metadata": {},
   "outputs": [],
   "source": [
    "# parameter can accept two types of values\n",
    "\n",
    "def divide(a, b):  # here a and b can accept both int and float values\n",
    "    return a / b\n",
    "\n",
    "\n",
    "# the above function signature can be written as\n",
    "def divide_(a: Union[int, float], b: Union[int, float]) -> Union[int, float]:\n",
    "    return a / b"
   ]
  },
  {
   "cell_type": "code",
   "execution_count": null,
   "id": "06978b68",
   "metadata": {},
   "outputs": [],
   "source": [
    "# parameter can accept any kind of data type\n",
    "\n",
    "def anything(a: Any):  # here a can accept any kind of data type\n",
    "    print(a)"
   ]
  },
  {
   "cell_type": "code",
   "execution_count": null,
   "id": "e0d4f574",
   "metadata": {},
   "outputs": [],
   "source": [
    "# parameter can accept any data type but all the parameters should be of same type\n",
    "\n",
    "T = TypeVar(\"T\")\n",
    "\n",
    "def addition(a: T, b: T) -> T:\n",
    "    return a + b\n",
    "\n",
    "\n",
    "help(addition)"
   ]
  },
  {
   "cell_type": "markdown",
   "id": "0f0dc0fe",
   "metadata": {},
   "source": [
    "# Type Checking"
   ]
  },
  {
   "cell_type": "code",
   "execution_count": null,
   "id": "8cbbe135",
   "metadata": {},
   "outputs": [],
   "source": [
    "# problem\n",
    "\n",
    "from typing import List\n",
    "\n",
    "def list_sum_(list_: List[int]) -> int:\n",
    "    return sum(list_)\n",
    "\n",
    "\n",
    "num_list = [1, 2, 3]\n",
    "list_sum_(num_list)\n",
    "\n",
    "# here the list_sum_ accepts int, float and str lists eventhough type hinting has only int type.\n",
    "# str_list = [\"a\", \"b\", \"c\"]\n",
    "#str_num_list = [\"a\", \"b\", \"c\", 1]\n",
    "# list_sum_(str_list)"
   ]
  },
  {
   "cell_type": "markdown",
   "id": "fd78e1eb",
   "metadata": {},
   "source": [
    "The solution for the above problem is using the mypy library.\n",
    "\n",
    "Installation: *pip install mypy*\n",
    "\n",
    "mypy [filename]"
   ]
  },
  {
   "cell_type": "markdown",
   "id": "95306f04",
   "metadata": {},
   "source": [
    "# Functional programming in python"
   ]
  },
  {
   "cell_type": "code",
   "execution_count": 7,
   "id": "1c69968b",
   "metadata": {},
   "outputs": [],
   "source": [
    "lst = [1, 2, 3, 4, 5]"
   ]
  },
  {
   "cell_type": "markdown",
   "id": "93779698",
   "metadata": {},
   "source": [
    "## a. Lambda function"
   ]
  },
  {
   "cell_type": "code",
   "execution_count": 8,
   "id": "a11048cd",
   "metadata": {},
   "outputs": [
    {
     "name": "stdout",
     "output_type": "stream",
     "text": [
      "15\n",
      "3.0\n",
      "25\n",
      "50\n"
     ]
    }
   ],
   "source": [
    "# lambda function: anonymous function.\n",
    "\n",
    "# syntax --> lambda arguments: expression\n",
    "# lambda functions can take any number of arguments.\n",
    "\n",
    "omega = lambda a: a + 10\n",
    "print(omega(5))\n",
    "\n",
    "average = lambda L: sum(L) / len(L)\n",
    "print(average(lst))\n",
    "\n",
    "# actual lambda function use case: anonymous function inside another function.\n",
    "def sample_lambda_function(x):\n",
    "    return lambda a: a * x\n",
    "\n",
    "\n",
    "result = sample_lambda_function(5)\n",
    "print(result(5))\n",
    "print(result(10))"
   ]
  },
  {
   "cell_type": "markdown",
   "id": "5d5ee77d",
   "metadata": {},
   "source": [
    "## b. sorted function"
   ]
  },
  {
   "cell_type": "code",
   "execution_count": 16,
   "id": "ee40fc32",
   "metadata": {},
   "outputs": [
    {
     "name": "stdout",
     "output_type": "stream",
     "text": [
      "[{'name': 'Clarke', 'age': 25}, {'name': 'Bruce', 'age': 24}, {'name': 'Parker', 'age': 19}]\n"
     ]
    }
   ],
   "source": [
    "# sorted the iterables\n",
    "# syntax --> sorted(iterables, key, reverse)\n",
    "\n",
    "data = [3, 5, 1, 10, 9]\n",
    "sorted_data = sorted(data)  # sorts in ascending order by default. Set reverse=True for descending sort\n",
    "# print(sorted_data)\n",
    "\n",
    "# sorting dictionaries based on specific attribute\n",
    "dict_data = [{\"name\": \"Bruce\", \"age\": 24},\n",
    "            {\"name\": \"Clarke\", \"age\": 25},\n",
    "            {\"name\": \"Parker\", \"age\": 19}]\n",
    "sorted_dict_data = sorted(dict_data, key=lambda x: x[\"age\"], reverse=True)\n",
    "# print(sorted_dict_data)\n",
    "\n",
    "points2D = [(1, 2), (15, 1), (5, -1), (10, 4)]\n",
    "sorted_points_2D = sorted(points2D)  # sorts based on the x index\n",
    "# print(sorted_points_2D)\n",
    "\n",
    "sorted_points_2D_ = sorted(points2D, key=lambda x: x[1])  # sorts based on the y index\n",
    "# print(sorted_points_2D_)\n",
    "\n",
    "sorted_points_2d = sorted(points2D, key=lambda x: x[0] + x[1])  # sorts based on their sum"
   ]
  },
  {
   "cell_type": "markdown",
   "id": "9cba0977",
   "metadata": {},
   "source": [
    "## c. map function"
   ]
  },
  {
   "cell_type": "code",
   "execution_count": 9,
   "id": "59040c86",
   "metadata": {},
   "outputs": [
    {
     "name": "stdout",
     "output_type": "stream",
     "text": [
      "<map object at 0x7fbdc58f6c10>\n"
     ]
    }
   ],
   "source": [
    "# executes a specific function for each item of an iterable.\n",
    "# syntax --> map(function, iterable)\n",
    "\n",
    "\"\"\"\n",
    "def func(lst):\n",
    "    return [element**2 for element in lst]\n",
    "\"\"\"\n",
    "\n",
    "sqr_lst = map(lambda x: x**2, lst)  # this is similar to [x**2 for x in lst]\n",
    "print(sqr_lst)"
   ]
  },
  {
   "cell_type": "markdown",
   "id": "ddd6ea47",
   "metadata": {},
   "source": [
    "## d. filter function"
   ]
  },
  {
   "cell_type": "code",
   "execution_count": 10,
   "id": "cbf258a7",
   "metadata": {},
   "outputs": [
    {
     "name": "stdout",
     "output_type": "stream",
     "text": [
      "<filter object at 0x7fbdc58f6070>\n"
     ]
    }
   ],
   "source": [
    "# returns an iterator where the items are filtered through a function which implements a test condition.\n",
    "# syntax --> filter(function, iterable)\n",
    "\n",
    "\"\"\"\n",
    "def func(lst):\n",
    "    for element in lst:\n",
    "        if element < 18:\n",
    "            return False\n",
    "        else:\n",
    "            return True\n",
    "\"\"\"\n",
    "\n",
    "odds = filter((lambda x: x%2), lst)  # this is similar to [x for x in lst if x%2]\n",
    "print(odds)"
   ]
  },
  {
   "cell_type": "markdown",
   "id": "59ceb751",
   "metadata": {},
   "source": [
    "## e. reduce function"
   ]
  },
  {
   "cell_type": "code",
   "execution_count": 11,
   "id": "94fd9f1c",
   "metadata": {},
   "outputs": [
    {
     "name": "stdout",
     "output_type": "stream",
     "text": [
      "120\n"
     ]
    }
   ],
   "source": [
    "from functools import reduce\n",
    "\n",
    "\"\"\"\n",
    "def sum_lst(lst):\n",
    "    x = 0\n",
    "    for element in lst:\n",
    "        x = x + element\n",
    "        \n",
    "    return x\n",
    "\"\"\"\n",
    "\n",
    "prod = reduce(lambda x, y: x*y, lst)\n",
    "print(prod)"
   ]
  },
  {
   "cell_type": "code",
   "execution_count": 23,
   "id": "4cfe3959",
   "metadata": {},
   "outputs": [
    {
     "name": "stdout",
     "output_type": "stream",
     "text": [
      "True\n"
     ]
    }
   ],
   "source": [
    "# any function\n",
    "\n",
    "numbers = [-1, -2, -3, -4, 0, 3, -7]\n",
    "\"\"\"\n",
    "has_positive_number = False\n",
    "for element in numbers:\n",
    "    if element > 0:\n",
    "        has_positive_number = True\n",
    "        break\n",
    "\"\"\"\n",
    "\n",
    "has_positive_number = any(element > 0 for element in numbers)\n",
    "print(has_positive_number)"
   ]
  },
  {
   "cell_type": "code",
   "execution_count": 31,
   "id": "23f0dc7d",
   "metadata": {},
   "outputs": [
    {
     "name": "stdout",
     "output_type": "stream",
     "text": [
      "Help on built-in function print in module builtins:\n",
      "\n",
      "print(...)\n",
      "    print(value, ..., sep=' ', end='\\n', file=sys.stdout, flush=False)\n",
      "    \n",
      "    Prints the values to a stream, or to sys.stdout by default.\n",
      "    Optional keyword arguments:\n",
      "    file:  a file-like object (stream); defaults to the current sys.stdout.\n",
      "    sep:   string inserted between values, default a space.\n",
      "    end:   string appended after the last value, default a newline.\n",
      "    flush: whether to forcibly flush the stream.\n",
      "\n"
     ]
    }
   ],
   "source": [
    "condition = True\n",
    "x, y = (1, 0) if condition else (None, None)\n",
    "\n",
    "# print(x, y)\n",
    "help(print)"
   ]
  }
 ],
 "metadata": {
  "kernelspec": {
   "display_name": "self_learning",
   "language": "python",
   "name": "self_learning"
  },
  "language_info": {
   "codemirror_mode": {
    "name": "ipython",
    "version": 3
   },
   "file_extension": ".py",
   "mimetype": "text/x-python",
   "name": "python",
   "nbconvert_exporter": "python",
   "pygments_lexer": "ipython3",
   "version": "3.8.10"
  }
 },
 "nbformat": 4,
 "nbformat_minor": 5
}
