{
 "cells": [
  {
   "cell_type": "code",
   "execution_count": 1,
   "id": "4d83fc6d",
   "metadata": {},
   "outputs": [],
   "source": [
    "import boto3"
   ]
  },
  {
   "cell_type": "code",
   "execution_count": 5,
   "id": "6849ee0b",
   "metadata": {},
   "outputs": [
    {
     "name": "stdout",
     "output_type": "stream",
     "text": [
      "{'logStreams': [{'logStreamName': '2021/10/11/[$LATEST]2fe1c58262ce4e88bc387303cb6b923c', 'creationTime': 1633957369718, 'firstEventTimestamp': 1633957368488, 'lastEventTimestamp': 1633957373798, 'lastIngestionTime': 1633957382765, 'uploadSequenceToken': '49610793225220481978922802536420729486390684960715440354', 'arn': 'arn:aws:logs:us-east-1:363101672748:log-group:/aws/lambda/webface-qa-preview-handler:log-stream:2021/10/11/[$LATEST]2fe1c58262ce4e88bc387303cb6b923c', 'storedBytes': 0}, {'logStreamName': '2021/10/11/[$LATEST]c03a6f1f298c4822aaa77702c900a0bf', 'creationTime': 1633943426519, 'firstEventTimestamp': 1633943423961, 'lastEventTimestamp': 1633943533754, 'lastIngestionTime': 1633943542554, 'uploadSequenceToken': '49610793225220481978922798583074930064182816240794861794', 'arn': 'arn:aws:logs:us-east-1:363101672748:log-group:/aws/lambda/webface-qa-preview-handler:log-stream:2021/10/11/[$LATEST]c03a6f1f298c4822aaa77702c900a0bf', 'storedBytes': 0}, {'logStreamName': '2021/10/11/[$LATEST]f95dde9d0e514e0d9b6f0c12c57ae303', 'creationTime': 1633952175832, 'firstEventTimestamp': 1633952169792, 'lastEventTimestamp': 1633952427419, 'lastIngestionTime': 1633952431247, 'uploadSequenceToken': '49617052688990733295870822866545083899289115285124023762', 'arn': 'arn:aws:logs:us-east-1:363101672748:log-group:/aws/lambda/webface-qa-preview-handler:log-stream:2021/10/11/[$LATEST]f95dde9d0e514e0d9b6f0c12c57ae303', 'storedBytes': 0}], 'nextToken': 'Kwfr0bfVKkYk4OrYazFRicokPndl1CJMt3kD9A6OUVLCFhWyExZQqwriNZtLYOma-gFhpJuKaoKJ8VOBXnd3DszX_5GoqgmLA45LrJXtIkYpdoGnE827PyHr9JlkqFMcnm8JucsthUWuH-5ViWzBzwUB1DBtXw4JdzVkOu5MtNQBH_nnl9zS_lOX4oopuGSg2i6cKvO_1Y_iNgcD-zRxXwwAtuRRXOjsnClOBqfePddC91bB-XxDaxx8EavEEmQz42CMl1DDydMH6giQcMeMMRtItjRpWjUD6uklvDB175lLyej8x4Vux8WBF9PYdxtX5fUrplS6QqRnYRZq9AZyJ0ao2yh1svnu3hbXKhqznwHhGtCZdYGvJOPhvAKl3AFjPXy5OQmFyvKpb0Wy5PzDildOWzB36hgaI3mDJtIeXpxWI10DVAtLFc-8Pmj2CpR93wlIpLQNFzDuQxtLkrH0aB04nsmNOzqwBl5KfqaUXuY', 'ResponseMetadata': {'RequestId': '0ae919b6-4814-4ab9-b340-ea697822a02c', 'HTTPStatusCode': 200, 'HTTPHeaders': {'x-amzn-requestid': '0ae919b6-4814-4ab9-b340-ea697822a02c', 'content-type': 'application/x-amz-json-1.1', 'content-length': '1905', 'date': 'Fri, 22 Oct 2021 11:21:04 GMT'}, 'RetryAttempts': 0}}\n"
     ]
    }
   ],
   "source": [
    "logs_client = boto3.client(\"logs\")\n",
    "response = logs_client.describe_log_streams(\n",
    "    logGroupName=\"/aws/lambda/webface-qa-preview-handler\",\n",
    "    limit=3,\n",
    ")\n",
    "print(response)"
   ]
  },
  {
   "cell_type": "code",
   "execution_count": 8,
   "id": "c71056b6",
   "metadata": {},
   "outputs": [
    {
     "name": "stdout",
     "output_type": "stream",
     "text": [
      "-1632322467715\n"
     ]
    }
   ],
   "source": [
    "from datetime import datetime\n",
    "\n",
    "now_ = datetime.now()\n",
    "now_epoch_time = int(now_.strftime(\"%s\"))\n",
    "epoch_ = now_epoch_time - 1633957369718\n",
    "print(epoch_)\n",
    "\n",
    "# datetime.fromtimestamp(1633957369718)"
   ]
  },
  {
   "cell_type": "code",
   "execution_count": null,
   "id": "f36beb6a",
   "metadata": {},
   "outputs": [],
   "source": [
    "# generating presigned url\n",
    "\n",
    "s3_client = boto3.client(\"s3\")\n",
    "presigned_url = s3_client.generate_presigned_url(\n",
    "    \n",
    ")"
   ]
  }
 ],
 "metadata": {
  "kernelspec": {
   "display_name": "self_learning",
   "language": "python",
   "name": "self_learning"
  },
  "language_info": {
   "codemirror_mode": {
    "name": "ipython",
    "version": 3
   },
   "file_extension": ".py",
   "mimetype": "text/x-python",
   "name": "python",
   "nbconvert_exporter": "python",
   "pygments_lexer": "ipython3",
   "version": "3.8.10"
  }
 },
 "nbformat": 4,
 "nbformat_minor": 5
}
